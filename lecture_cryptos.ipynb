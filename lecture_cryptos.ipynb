{
 "cells": [
  {
   "cell_type": "code",
   "execution_count": 1,
   "metadata": {},
   "outputs": [],
   "source": [
    "import pandas_datareader as web\n",
    "import mplfinance as mpf\n",
    "import datetime as dt\n",
    "import matplotlib.pyplot as plt\n",
    "import seaborn as sns"
   ]
  },
  {
   "cell_type": "code",
   "execution_count": 4,
   "metadata": {},
   "outputs": [],
   "source": [
    "currency = 'EUR'\n",
    "metric = 'Close'\n",
    "start = dt.datetime(2018, 1, 1)\n",
    "end = dt.datetime.now()\n",
    "crypto = ['BTC', 'ETH']\n",
    "colnames = []"
   ]
  },
  {
   "cell_type": "code",
   "execution_count": 5,
   "metadata": {},
   "outputs": [
    {
     "data": {
      "text/html": [
       "<div>\n",
       "<style scoped>\n",
       "    .dataframe tbody tr th:only-of-type {\n",
       "        vertical-align: middle;\n",
       "    }\n",
       "\n",
       "    .dataframe tbody tr th {\n",
       "        vertical-align: top;\n",
       "    }\n",
       "\n",
       "    .dataframe thead th {\n",
       "        text-align: right;\n",
       "    }\n",
       "</style>\n",
       "<table border=\"1\" class=\"dataframe\">\n",
       "  <thead>\n",
       "    <tr style=\"text-align: right;\">\n",
       "      <th></th>\n",
       "      <th>BTC</th>\n",
       "      <th>ETH</th>\n",
       "    </tr>\n",
       "    <tr>\n",
       "      <th>Date</th>\n",
       "      <th></th>\n",
       "      <th></th>\n",
       "    </tr>\n",
       "  </thead>\n",
       "  <tbody>\n",
       "    <tr>\n",
       "      <th>2018-01-01</th>\n",
       "      <td>11372.470703</td>\n",
       "      <td>643.384949</td>\n",
       "    </tr>\n",
       "    <tr>\n",
       "      <th>2018-01-02</th>\n",
       "      <td>12421.938477</td>\n",
       "      <td>733.308960</td>\n",
       "    </tr>\n",
       "    <tr>\n",
       "      <th>2018-01-03</th>\n",
       "      <td>12656.952148</td>\n",
       "      <td>801.598633</td>\n",
       "    </tr>\n",
       "    <tr>\n",
       "      <th>2018-01-04</th>\n",
       "      <td>12928.228516</td>\n",
       "      <td>812.963684</td>\n",
       "    </tr>\n",
       "    <tr>\n",
       "      <th>2018-01-05</th>\n",
       "      <td>14490.771484</td>\n",
       "      <td>829.497803</td>\n",
       "    </tr>\n",
       "    <tr>\n",
       "      <th>...</th>\n",
       "      <td>...</td>\n",
       "      <td>...</td>\n",
       "    </tr>\n",
       "    <tr>\n",
       "      <th>2022-10-22</th>\n",
       "      <td>19485.171875</td>\n",
       "      <td>1333.251465</td>\n",
       "    </tr>\n",
       "    <tr>\n",
       "      <th>2022-10-23</th>\n",
       "      <td>19839.810547</td>\n",
       "      <td>1382.456177</td>\n",
       "    </tr>\n",
       "    <tr>\n",
       "      <th>2022-10-24</th>\n",
       "      <td>19572.322266</td>\n",
       "      <td>1360.763184</td>\n",
       "    </tr>\n",
       "    <tr>\n",
       "      <th>2022-10-25</th>\n",
       "      <td>20170.089844</td>\n",
       "      <td>1467.064819</td>\n",
       "    </tr>\n",
       "    <tr>\n",
       "      <th>2022-10-26</th>\n",
       "      <td>20574.828125</td>\n",
       "      <td>1533.879639</td>\n",
       "    </tr>\n",
       "  </tbody>\n",
       "</table>\n",
       "<p>1760 rows × 2 columns</p>\n",
       "</div>"
      ],
      "text/plain": [
       "                     BTC          ETH\n",
       "Date                                 \n",
       "2018-01-01  11372.470703   643.384949\n",
       "2018-01-02  12421.938477   733.308960\n",
       "2018-01-03  12656.952148   801.598633\n",
       "2018-01-04  12928.228516   812.963684\n",
       "2018-01-05  14490.771484   829.497803\n",
       "...                  ...          ...\n",
       "2022-10-22  19485.171875  1333.251465\n",
       "2022-10-23  19839.810547  1382.456177\n",
       "2022-10-24  19572.322266  1360.763184\n",
       "2022-10-25  20170.089844  1467.064819\n",
       "2022-10-26  20574.828125  1533.879639\n",
       "\n",
       "[1760 rows x 2 columns]"
      ]
     },
     "execution_count": 5,
     "metadata": {},
     "output_type": "execute_result"
    }
   ],
   "source": [
    "first = True\n",
    "for ticker in crypto:\n",
    "    data = web.DataReader(f'{ticker}-{currency}', \"yahoo\", start, end)\n",
    "    if first:\n",
    "        combined = data[[metric]].copy()\n",
    "        first = False\n",
    "    else:\n",
    "        combined = combined.join(data[metric])\n",
    "    colnames.append(ticker)\n",
    "    combined.columns = colnames\n",
    "combined"
   ]
  },
  {
   "cell_type": "code",
   "execution_count": 8,
   "metadata": {},
   "outputs": [
    {
     "data": {
      "text/plain": [
       "<AxesSubplot:xlabel='Date', ylabel='ETH'>"
      ]
     },
     "execution_count": 8,
     "metadata": {},
     "output_type": "execute_result"
    },
    {
     "data": {
      "image/png": "[encoded data removed]",
      "text/plain": [
       "<Figure size 864x576 with 1 Axes>"
      ]
     },
     "metadata": {
      "needs_background": "light"
     },
     "output_type": "display_data"
    }
   ],
   "source": [
    "plt.figure(figsize=(12,8))\n",
    "plt.subplot(1,1,1)\n",
    "sns.lineplot(data=combined, x=combined.index, y='BTC')\n",
    "\n",
    "plt.subplot(1,2,1)\n",
    "sns.lineplot(data=combined, x=combined.index, y='ETH')"
   ]
  },
  {
   "cell_type": "code",
   "execution_count": 11,
   "metadata": {},
   "outputs": [],
   "source": [
    "import yfinance as yf"
   ]
  },
  {
   "cell_type": "code",
   "execution_count": 20,
   "metadata": {},
   "outputs": [],
   "source": [
    "msft = yf.Ticker(\"btc\")\n",
    "\n",
    "# get stock info\n",
    "msft.info\n",
    "\n",
    "# get historical market data\n",
    "hist = msft.history(period='1y')"
   ]
  },
  {
   "cell_type": "code",
   "execution_count": 21,
   "metadata": {},
   "outputs": [
    {
     "data": {
      "text/html": [
       "<div>\n",
       "<style scoped>\n",
       "    .dataframe tbody tr th:only-of-type {\n",
       "        vertical-align: middle;\n",
       "    }\n",
       "\n",
       "    .dataframe tbody tr th {\n",
       "        vertical-align: top;\n",
       "    }\n",
       "\n",
       "    .dataframe thead th {\n",
       "        text-align: right;\n",
       "    }\n",
       "</style>\n",
       "<table border=\"1\" class=\"dataframe\">\n",
       "  <thead>\n",
       "    <tr style=\"text-align: right;\">\n",
       "      <th></th>\n",
       "      <th>Open</th>\n",
       "      <th>High</th>\n",
       "      <th>Low</th>\n",
       "      <th>Close</th>\n",
       "      <th>Volume</th>\n",
       "      <th>Dividends</th>\n",
       "      <th>Stock Splits</th>\n",
       "    </tr>\n",
       "    <tr>\n",
       "      <th>Date</th>\n",
       "      <th></th>\n",
       "      <th></th>\n",
       "      <th></th>\n",
       "      <th></th>\n",
       "      <th></th>\n",
       "      <th></th>\n",
       "      <th></th>\n",
       "    </tr>\n",
       "  </thead>\n",
       "  <tbody>\n",
       "    <tr>\n",
       "      <th>2021-10-26 00:00:00-04:00</th>\n",
       "      <td>98.629997</td>\n",
       "      <td>98.629997</td>\n",
       "      <td>98.629997</td>\n",
       "      <td>98.629997</td>\n",
       "      <td>50716</td>\n",
       "      <td>0</td>\n",
       "      <td>0</td>\n",
       "    </tr>\n",
       "    <tr>\n",
       "      <th>2021-10-27 00:00:00-04:00</th>\n",
       "      <td>98.769997</td>\n",
       "      <td>98.769997</td>\n",
       "      <td>98.769997</td>\n",
       "      <td>98.769997</td>\n",
       "      <td>8</td>\n",
       "      <td>0</td>\n",
       "      <td>0</td>\n",
       "    </tr>\n",
       "    <tr>\n",
       "      <th>2021-10-28 00:00:00-04:00</th>\n",
       "      <td>98.639999</td>\n",
       "      <td>98.650002</td>\n",
       "      <td>98.639999</td>\n",
       "      <td>98.650002</td>\n",
       "      <td>307</td>\n",
       "      <td>0</td>\n",
       "      <td>0</td>\n",
       "    </tr>\n",
       "    <tr>\n",
       "      <th>2021-10-29 00:00:00-04:00</th>\n",
       "      <td>98.680603</td>\n",
       "      <td>98.680603</td>\n",
       "      <td>98.680603</td>\n",
       "      <td>98.680603</td>\n",
       "      <td>7</td>\n",
       "      <td>0</td>\n",
       "      <td>0</td>\n",
       "    </tr>\n",
       "    <tr>\n",
       "      <th>2021-11-01 00:00:00-04:00</th>\n",
       "      <td>98.669998</td>\n",
       "      <td>98.680000</td>\n",
       "      <td>98.529999</td>\n",
       "      <td>98.617203</td>\n",
       "      <td>1840</td>\n",
       "      <td>0</td>\n",
       "      <td>0</td>\n",
       "    </tr>\n",
       "    <tr>\n",
       "      <th>...</th>\n",
       "      <td>...</td>\n",
       "      <td>...</td>\n",
       "      <td>...</td>\n",
       "      <td>...</td>\n",
       "      <td>...</td>\n",
       "      <td>...</td>\n",
       "      <td>...</td>\n",
       "    </tr>\n",
       "    <tr>\n",
       "      <th>2022-10-19 00:00:00-04:00</th>\n",
       "      <td>88.891800</td>\n",
       "      <td>88.891800</td>\n",
       "      <td>88.891800</td>\n",
       "      <td>88.891800</td>\n",
       "      <td>30</td>\n",
       "      <td>0</td>\n",
       "      <td>0</td>\n",
       "    </tr>\n",
       "    <tr>\n",
       "      <th>2022-10-20 00:00:00-04:00</th>\n",
       "      <td>88.609001</td>\n",
       "      <td>88.609001</td>\n",
       "      <td>88.609001</td>\n",
       "      <td>88.609001</td>\n",
       "      <td>100</td>\n",
       "      <td>0</td>\n",
       "      <td>0</td>\n",
       "    </tr>\n",
       "    <tr>\n",
       "      <th>2022-10-21 00:00:00-04:00</th>\n",
       "      <td>88.889503</td>\n",
       "      <td>88.889503</td>\n",
       "      <td>88.889503</td>\n",
       "      <td>88.889503</td>\n",
       "      <td>131</td>\n",
       "      <td>0</td>\n",
       "      <td>0</td>\n",
       "    </tr>\n",
       "    <tr>\n",
       "      <th>2022-10-24 00:00:00-04:00</th>\n",
       "      <td>88.880096</td>\n",
       "      <td>88.899002</td>\n",
       "      <td>88.880096</td>\n",
       "      <td>88.880096</td>\n",
       "      <td>115</td>\n",
       "      <td>0</td>\n",
       "      <td>0</td>\n",
       "    </tr>\n",
       "    <tr>\n",
       "      <th>2022-10-25 00:00:00-04:00</th>\n",
       "      <td>89.266296</td>\n",
       "      <td>89.319504</td>\n",
       "      <td>89.266296</td>\n",
       "      <td>89.266296</td>\n",
       "      <td>136</td>\n",
       "      <td>0</td>\n",
       "      <td>0</td>\n",
       "    </tr>\n",
       "  </tbody>\n",
       "</table>\n",
       "<p>252 rows × 7 columns</p>\n",
       "</div>"
      ],
      "text/plain": [
       "                                Open       High        Low      Close  Volume  \\\n",
       "Date                                                                            \n",
       "2021-10-26 00:00:00-04:00  98.629997  98.629997  98.629997  98.629997   50716   \n",
       "2021-10-27 00:00:00-04:00  98.769997  98.769997  98.769997  98.769997       8   \n",
       "2021-10-28 00:00:00-04:00  98.639999  98.650002  98.639999  98.650002     307   \n",
       "2021-10-29 00:00:00-04:00  98.680603  98.680603  98.680603  98.680603       7   \n",
       "2021-11-01 00:00:00-04:00  98.669998  98.680000  98.529999  98.617203    1840   \n",
       "...                              ...        ...        ...        ...     ...   \n",
       "2022-10-19 00:00:00-04:00  88.891800  88.891800  88.891800  88.891800      30   \n",
       "2022-10-20 00:00:00-04:00  88.609001  88.609001  88.609001  88.609001     100   \n",
       "2022-10-21 00:00:00-04:00  88.889503  88.889503  88.889503  88.889503     131   \n",
       "2022-10-24 00:00:00-04:00  88.880096  88.899002  88.880096  88.880096     115   \n",
       "2022-10-25 00:00:00-04:00  89.266296  89.319504  89.266296  89.266296     136   \n",
       "\n",
       "                           Dividends  Stock Splits  \n",
       "Date                                                \n",
       "2021-10-26 00:00:00-04:00          0             0  \n",
       "2021-10-27 00:00:00-04:00          0             0  \n",
       "2021-10-28 00:00:00-04:00          0             0  \n",
       "2021-10-29 00:00:00-04:00          0             0  \n",
       "2021-11-01 00:00:00-04:00          0             0  \n",
       "...                              ...           ...  \n",
       "2022-10-19 00:00:00-04:00          0             0  \n",
       "2022-10-20 00:00:00-04:00          0             0  \n",
       "2022-10-21 00:00:00-04:00          0             0  \n",
       "2022-10-24 00:00:00-04:00          0             0  \n",
       "2022-10-25 00:00:00-04:00          0             0  \n",
       "\n",
       "[252 rows x 7 columns]"
      ]
     },
     "execution_count": 21,
     "metadata": {},
     "output_type": "execute_result"
    }
   ],
   "source": [
    "hist"
   ]
  },
  {
   "cell_type": "code",
   "execution_count": 22,
   "metadata": {},
   "outputs": [
    {
     "data": {
      "text/plain": [
       "<AxesSubplot:xlabel='Date', ylabel='Close'>"
      ]
     },
     "execution_count": 22,
     "metadata": {},
     "output_type": "execute_result"
    },
    {
     "data": {
      "image/png": "[encoded data removed]",
      "text/plain": [
       "<Figure size 432x288 with 1 Axes>"
      ]
     },
     "metadata": {
      "needs_background": "light"
     },
     "output_type": "display_data"
    }
   ],
   "source": [
    "sns.lineplot(data=hist, x=hist.index, y='Close')"
   ]
  },
  {
   "cell_type": "code",
   "execution_count": 24,
   "metadata": {},
   "outputs": [],
   "source": [
    "# Raw Package\n",
    "import numpy as np\n",
    "import pandas as pd\n",
    "\n",
    "#Data Source\n",
    "import yfinance as yf\n",
    "\n",
    "#Data viz\n",
    "import plotly.graph_objs as go"
   ]
  },
  {
   "cell_type": "code",
   "execution_count": 42,
   "metadata": {},
   "outputs": [
    {
     "name": "stdout",
     "output_type": "stream",
     "text": [
      "[*********************100%***********************]  1 of 1 completed\n"
     ]
    }
   ],
   "source": [
    "data = yf.download(tickers='BTC-USD', period = '1d', interval = '1h')"
   ]
  },
  {
   "cell_type": "code",
   "execution_count": 43,
   "metadata": {},
   "outputs": [
    {
     "data": {
      "text/html": [
       "<div>\n",
       "<style scoped>\n",
       "    .dataframe tbody tr th:only-of-type {\n",
       "        vertical-align: middle;\n",
       "    }\n",
       "\n",
       "    .dataframe tbody tr th {\n",
       "        vertical-align: top;\n",
       "    }\n",
       "\n",
       "    .dataframe thead th {\n",
       "        text-align: right;\n",
       "    }\n",
       "</style>\n",
       "<table border=\"1\" class=\"dataframe\">\n",
       "  <thead>\n",
       "    <tr style=\"text-align: right;\">\n",
       "      <th></th>\n",
       "      <th>Open</th>\n",
       "      <th>High</th>\n",
       "      <th>Low</th>\n",
       "      <th>Close</th>\n",
       "      <th>Adj Close</th>\n",
       "      <th>Volume</th>\n",
       "    </tr>\n",
       "    <tr>\n",
       "      <th>Datetime</th>\n",
       "      <th></th>\n",
       "      <th></th>\n",
       "      <th></th>\n",
       "      <th></th>\n",
       "      <th></th>\n",
       "      <th></th>\n",
       "    </tr>\n",
       "  </thead>\n",
       "  <tbody>\n",
       "    <tr>\n",
       "      <th>2022-10-26 00:00:00</th>\n",
       "      <td>20090.675781</td>\n",
       "      <td>20125.156250</td>\n",
       "      <td>20078.361328</td>\n",
       "      <td>20078.361328</td>\n",
       "      <td>20078.361328</td>\n",
       "      <td>145858560</td>\n",
       "    </tr>\n",
       "    <tr>\n",
       "      <th>2022-10-26 00:15:00</th>\n",
       "      <td>20076.117188</td>\n",
       "      <td>20116.695312</td>\n",
       "      <td>20076.117188</td>\n",
       "      <td>20111.048828</td>\n",
       "      <td>20111.048828</td>\n",
       "      <td>360333312</td>\n",
       "    </tr>\n",
       "    <tr>\n",
       "      <th>2022-10-26 00:30:00</th>\n",
       "      <td>20115.189453</td>\n",
       "      <td>20119.619141</td>\n",
       "      <td>20105.820312</td>\n",
       "      <td>20119.619141</td>\n",
       "      <td>20119.619141</td>\n",
       "      <td>268394496</td>\n",
       "    </tr>\n",
       "    <tr>\n",
       "      <th>2022-10-26 00:45:00</th>\n",
       "      <td>20117.865234</td>\n",
       "      <td>20147.187500</td>\n",
       "      <td>20107.919922</td>\n",
       "      <td>20147.187500</td>\n",
       "      <td>20147.187500</td>\n",
       "      <td>271560704</td>\n",
       "    </tr>\n",
       "    <tr>\n",
       "      <th>2022-10-26 01:00:00</th>\n",
       "      <td>20147.193359</td>\n",
       "      <td>20158.330078</td>\n",
       "      <td>20132.433594</td>\n",
       "      <td>20137.423828</td>\n",
       "      <td>20137.423828</td>\n",
       "      <td>94167040</td>\n",
       "    </tr>\n",
       "  </tbody>\n",
       "</table>\n",
       "</div>"
      ],
      "text/plain": [
       "                             Open          High           Low         Close  \\\n",
       "Datetime                                                                      \n",
       "2022-10-26 00:00:00  20090.675781  20125.156250  20078.361328  20078.361328   \n",
       "2022-10-26 00:15:00  20076.117188  20116.695312  20076.117188  20111.048828   \n",
       "2022-10-26 00:30:00  20115.189453  20119.619141  20105.820312  20119.619141   \n",
       "2022-10-26 00:45:00  20117.865234  20147.187500  20107.919922  20147.187500   \n",
       "2022-10-26 01:00:00  20147.193359  20158.330078  20132.433594  20137.423828   \n",
       "\n",
       "                        Adj Close     Volume  \n",
       "Datetime                                      \n",
       "2022-10-26 00:00:00  20078.361328  145858560  \n",
       "2022-10-26 00:15:00  20111.048828  360333312  \n",
       "2022-10-26 00:30:00  20119.619141  268394496  \n",
       "2022-10-26 00:45:00  20147.187500  271560704  \n",
       "2022-10-26 01:00:00  20137.423828   94167040  "
      ]
     },
     "execution_count": 43,
     "metadata": {},
     "output_type": "execute_result"
    }
   ],
   "source": [
    "data.head()"
   ]
  },
  {
   "cell_type": "code",
   "execution_count": 44,
   "metadata": {},
   "outputs": [
    {
     "data": {
      "text/plain": [
       "<AxesSubplot:xlabel='Datetime', ylabel='Close'>"
      ]
     },
     "execution_count": 44,
     "metadata": {},
     "output_type": "execute_result"
    },
    {
     "data": {
      "image/png": "[encoded data removed]",
      "text/plain": [
       "<Figure size 432x288 with 1 Axes>"
      ]
     },
     "metadata": {
      "needs_background": "light"
     },
     "output_type": "display_data"
    }
   ],
   "source": [
    "sns.lineplot(data=data, x=data.index, y='Close')"
   ]
  },
  {
   "cell_type": "code",
   "execution_count": null,
   "metadata": {},
   "outputs": [],
   "source": []
  }
 ],
 "metadata": {
  "kernelspec": {
   "display_name": "Python 3.10.2 64-bit",
   "language": "python",
   "name": "python3"
  },
  "language_info": {
   "codemirror_mode": {
    "name": "ipython",
    "version": 3
   },
   "file_extension": ".py",
   "mimetype": "text/x-python",
   "name": "python",
   "nbconvert_exporter": "python",
   "pygments_lexer": "ipython3",
   "version": "3.10.2"
  },
  "orig_nbformat": 4,
  "vscode": {
   "interpreter": {
    "hash": "26de051ba29f2982a8de78e945f0abaf191376122a1563185a90213a26c5da77"
   }
  }
 },
 "nbformat": 4,
 "nbformat_minor": 2
}
